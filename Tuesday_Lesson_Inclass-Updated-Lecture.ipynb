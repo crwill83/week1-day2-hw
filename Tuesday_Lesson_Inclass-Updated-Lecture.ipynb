{
 "cells": [
  {
   "cell_type": "markdown",
   "metadata": {},
   "source": [
    "# Functions, Scoping, Data Collections 1 & List Comprehensions"
   ]
  },
  {
   "cell_type": "markdown",
   "metadata": {},
   "source": [
    "## Tasks Today:\n",
    "\n",
    "<i>Monday Additions (or, and ... if statements)</i>\n",
    "\n",
    "1) String Manipulation <br>\n",
    " &nbsp;&nbsp;&nbsp;&nbsp; a) strip() <br>\n",
    " &nbsp;&nbsp;&nbsp;&nbsp; b) title() <br>\n",
    "2) Working With Lists <br>\n",
    " &nbsp;&nbsp;&nbsp;&nbsp; a) min() <br>\n",
    " &nbsp;&nbsp;&nbsp;&nbsp; b) max() <br>\n",
    " &nbsp;&nbsp;&nbsp;&nbsp; c) sum() <br>\n",
    " &nbsp;&nbsp;&nbsp;&nbsp; d) sort() <br>\n",
    " &nbsp;&nbsp;&nbsp;&nbsp; e) Copying a List <br>\n",
    " &nbsp;&nbsp;&nbsp;&nbsp; f) 'in' keyword <br>\n",
    " &nbsp;&nbsp;&nbsp;&nbsp; g) 'not in' keyword <br>\n",
    " &nbsp;&nbsp;&nbsp;&nbsp; i) Checking an Empty List <br>\n",
    " &nbsp;&nbsp;&nbsp;&nbsp; j) Removing Instances with a Loop <br>\n",
    "3) List Comprehensions <br>\n",
    "4) Tuples <br>\n",
    " &nbsp;&nbsp;&nbsp;&nbsp; a) sorted() <br>\n",
    "5) Functions <br>\n",
    " &nbsp;&nbsp;&nbsp;&nbsp; a) User-Defined vs. Built-In Functions <br>\n",
    " &nbsp;&nbsp;&nbsp;&nbsp; b) Accepting Parameters <br>\n",
    " &nbsp;&nbsp;&nbsp;&nbsp; c) Default Parameters <br>\n",
    " &nbsp;&nbsp;&nbsp;&nbsp; d) Making an Argument Optional <br>\n",
    " &nbsp;&nbsp;&nbsp;&nbsp; e) Keyword Arguments <br>\n",
    " &nbsp;&nbsp;&nbsp;&nbsp; f) Returning Values <br>\n",
    " &nbsp;&nbsp;&nbsp;&nbsp; g) *args <br>\n",
    " &nbsp;&nbsp;&nbsp;&nbsp; h) Docstring <br>\n",
    " &nbsp;&nbsp;&nbsp;&nbsp; i) Using a User Function in a Loop <br>\n",
    "6) Scope"
   ]
  },
  {
   "cell_type": "markdown",
   "metadata": {},
   "source": [
    "### String Manipulation"
   ]
  },
  {
   "cell_type": "markdown",
   "metadata": {},
   "source": [
    "##### .lstrip()"
   ]
  },
  {
   "cell_type": "code",
   "execution_count": 11,
   "metadata": {},
   "outputs": [
    {
     "name": "stdout",
     "output_type": "stream",
     "text": [
      "hShoha Tsuchide      \n"
     ]
    }
   ],
   "source": [
    "# string.lstrip()\n",
    "name = \"          hShoha Tsuchide      \"\n",
    "\n",
    "print(name.lstrip())\n"
   ]
  },
  {
   "cell_type": "markdown",
   "metadata": {},
   "source": [
    "##### .rstrip()"
   ]
  },
  {
   "cell_type": "code",
   "execution_count": 5,
   "metadata": {},
   "outputs": [
    {
     "name": "stdout",
     "output_type": "stream",
     "text": [
      "          hShoha Tsuchide\n"
     ]
    }
   ],
   "source": [
    "# string.rstrip()\n",
    "print(name.rstrip())"
   ]
  },
  {
   "cell_type": "markdown",
   "metadata": {},
   "source": [
    "##### .strip()"
   ]
  },
  {
   "cell_type": "code",
   "execution_count": null,
   "metadata": {},
   "outputs": [],
   "source": [
    "# string.strip()\n",
    "print(name.strip(' haS')) #strips out all things inside"
   ]
  },
  {
   "cell_type": "markdown",
   "metadata": {},
   "source": [
    "##### .title()"
   ]
  },
  {
   "cell_type": "code",
   "execution_count": 12,
   "metadata": {},
   "outputs": [
    {
     "name": "stdout",
     "output_type": "stream",
     "text": [
      "          Hshoha Tsuchide      \n",
      "          HSHOHA TSUCHIDE      \n",
      "          hshoha tsuchide      \n",
      "original           hShoha Tsuchide      \n"
     ]
    }
   ],
   "source": [
    "# string.title()\n",
    "print(name.title())\n",
    "print(name.upper())\n",
    "print(name.lower())\n",
    "name.upper()\n",
    "print(\"original\", name)"
   ]
  },
  {
   "cell_type": "markdown",
   "metadata": {},
   "source": [
    "### String Exercise <br>\n",
    "<p>Strip all white space and capitalize every name in the list given</p>"
   ]
  },
  {
   "cell_type": "code",
   "execution_count": 19,
   "metadata": {},
   "outputs": [
    {
     "name": "stdout",
     "output_type": "stream",
     "text": [
      "['Connor', 'Max', 'Evan', 'Jordan']\n"
     ]
    }
   ],
   "source": [
    "names = ['    coNNor', 'max', ' EVan ', 'JORDAN']\n",
    "# HINT: You will need to use a for loop for iteration\n",
    "#for name in names:\n",
    "#    print(name.strip().title())\n",
    "\n",
    "\n",
    "for i in range(len(names)):\n",
    "    names[i] = names[i].strip().title()\n",
    "print(names)"
   ]
  },
  {
   "cell_type": "markdown",
   "metadata": {},
   "source": [
    "### Working With Lists"
   ]
  },
  {
   "cell_type": "markdown",
   "metadata": {},
   "source": [
    "##### min()"
   ]
  },
  {
   "cell_type": "code",
   "execution_count": 20,
   "metadata": {},
   "outputs": [
    {
     "name": "stdout",
     "output_type": "stream",
     "text": [
      "1\n"
     ]
    }
   ],
   "source": [
    "# min(list)\n",
    "nums = [3,2,4,7,10,1]\n",
    "print(min(nums))"
   ]
  },
  {
   "cell_type": "markdown",
   "metadata": {},
   "source": [
    "max()"
   ]
  },
  {
   "cell_type": "code",
   "execution_count": 21,
   "metadata": {},
   "outputs": [
    {
     "name": "stdout",
     "output_type": "stream",
     "text": [
      "10\n"
     ]
    }
   ],
   "source": [
    "# max(list)\n",
    "print(max(nums))\n"
   ]
  },
  {
   "cell_type": "markdown",
   "metadata": {},
   "source": [
    "##### sum()"
   ]
  },
  {
   "cell_type": "code",
   "execution_count": 22,
   "metadata": {},
   "outputs": [
    {
     "name": "stdout",
     "output_type": "stream",
     "text": [
      "27\n"
     ]
    }
   ],
   "source": [
    "# sum(list)\n",
    "print(sum(nums))\n"
   ]
  },
  {
   "cell_type": "markdown",
   "metadata": {},
   "source": [
    "##### sorted()"
   ]
  },
  {
   "cell_type": "code",
   "execution_count": 24,
   "metadata": {},
   "outputs": [
    {
     "name": "stdout",
     "output_type": "stream",
     "text": [
      "[1, 2, 3, 4, 7, 10]\n",
      "[3, 2, 4, 7, 10, 1]\n"
     ]
    }
   ],
   "source": [
    "# sorted(list)\n",
    "# out of place, returns copy, original untouched\n",
    "sorted_nums = sorted(nums)\n",
    "print(sorted_nums)\n",
    "print(nums)\n"
   ]
  },
  {
   "cell_type": "markdown",
   "metadata": {},
   "source": [
    "##### .sort() <br>\n",
    "<p>Difference between sort and sorted, is that sorted doesn't change original list it returns a copy, while .sort changes the original list</p>"
   ]
  },
  {
   "cell_type": "code",
   "execution_count": 25,
   "metadata": {},
   "outputs": [
    {
     "name": "stdout",
     "output_type": "stream",
     "text": [
      "None\n",
      "[1, 2, 3, 4, 7, 10]\n"
     ]
    }
   ],
   "source": [
    "# list.sort()\n",
    "sort_nums = nums.sort()\n",
    "\n",
    "print(sort_nums)\n",
    "print(nums)\n",
    "\n",
    "# use sorted when you don't want to alter original list, use .sort() when you want to alter original list"
   ]
  },
  {
   "cell_type": "markdown",
   "metadata": {},
   "source": [
    "##### Copying a List"
   ]
  },
  {
   "cell_type": "code",
   "execution_count": 29,
   "metadata": {},
   "outputs": [
    {
     "name": "stdout",
     "output_type": "stream",
     "text": [
      "[1, 2, 3, 4, 7, 10, 5]\n",
      "[1, 2, 3, 4, 7, 10, 5]\n",
      "[1, 2, 3, 4, 7, 10, 5]\n",
      "[1, 2, 3, 4, 7, 10, 5, 5]\n"
     ]
    }
   ],
   "source": [
    "# [:] copies a list, doesn't alter original\n",
    "print(nums)\n",
    "\n",
    "copy1 = nums[:] # creates new list that's a copy of the first\n",
    "print(copy1)\n",
    "nums.append(5) # adds 5 to the end of the list\n",
    "print(copy1)\n",
    "print(nums)\n",
    "\n",
    "# [:] - all [1:] - index 1 to end [:4] - from beginning to 3 **does not include last index\n",
    "# <<<>>> [start:stop:step]\n",
    "# [::-1] reverses list\n"
   ]
  },
  {
   "cell_type": "markdown",
   "metadata": {},
   "source": [
    "##### 'in' keyword"
   ]
  },
  {
   "cell_type": "code",
   "execution_count": 30,
   "metadata": {},
   "outputs": [
    {
     "name": "stdout",
     "output_type": "stream",
     "text": [
      "You are in the best class at Coding Temple\n"
     ]
    }
   ],
   "source": [
    "teachers = [\"Shoha\", \"Dylan\"]\n",
    "if \"Shoha\" in teachers:\n",
    "    print(\"You are in the best class at Coding Temple\")"
   ]
  },
  {
   "cell_type": "markdown",
   "metadata": {},
   "source": [
    "##### 'not in' keyword"
   ]
  },
  {
   "cell_type": "code",
   "execution_count": null,
   "metadata": {},
   "outputs": [],
   "source": []
  },
  {
   "cell_type": "markdown",
   "metadata": {},
   "source": [
    "##### Checking an Empty List"
   ]
  },
  {
   "cell_type": "code",
   "execution_count": null,
   "metadata": {},
   "outputs": [],
   "source": [
    "# if l_1: or if l_1 = []\n",
    "l_1 = [1,2,3]\n",
    "l_2 = []\n",
    "if l_1:\n",
    "    print(\"Not empty\")\n",
    "else:\n",
    "    print(\"Empty\")\n"
   ]
  },
  {
   "cell_type": "markdown",
   "metadata": {},
   "source": [
    "##### Removing Instances with a Loop"
   ]
  },
  {
   "cell_type": "code",
   "execution_count": 38,
   "metadata": {},
   "outputs": [
    {
     "name": "stdout",
     "output_type": "stream",
     "text": [
      "['John', 'Brian', 'John', 'Drew']\n",
      "['Brian', 'Drew']\n"
     ]
    }
   ],
   "source": [
    "# while, remove\n",
    "names = [\"John\", \"Brian\", \"John\", \"Drew\"]\n",
    "#while \"John\" in names:\n",
    "#    names.remove(\"John\")\n",
    "print(names)\n",
    "\n",
    "\n",
    "for name in names:\n",
    "    if name == \"John\":\n",
    "        names.remove(\"John\")\n",
    "print(names)\n"
   ]
  },
  {
   "cell_type": "markdown",
   "metadata": {},
   "source": [
    "### List Exercise <br>\n",
    "<p>Remove all duplicates<br><b>Extra: Create a program that will remove any duplicates from a given list</b></p>"
   ]
  },
  {
   "cell_type": "code",
   "execution_count": 44,
   "metadata": {},
   "outputs": [
    {
     "name": "stdout",
     "output_type": "stream",
     "text": [
      "['connor', 'bob', 'evan', 'max', 2, 3, 4, 'kevin']\n"
     ]
    }
   ],
   "source": [
    "names = ['connor', 'connor', 'bob', 'connor', 'evan', 'max', 'evan', 2, 2, 2, 3, 3, 4, 'bob', 'kevin']\n",
    "# Hint 1: You will need an append\n",
    "# Hint 2: Using an empty list will make life easier\n",
    "new_names = []\n",
    "for item in names: # for all items in original string\n",
    "    if item not in new_names: # if they are not in the new string add it to the new string\n",
    "        new_names.append(item)\n",
    "print(new_names)"
   ]
  },
  {
   "cell_type": "markdown",
   "metadata": {},
   "source": [
    "### List Comprehensions <br>\n",
    "<p>Creating a quickly generated list to work with<br>*result*  = [*transform*    *iteration*         *filter*     ]</p>"
   ]
  },
  {
   "cell_type": "markdown",
   "metadata": {},
   "source": [
    "##### In a list comprehension we have a few pieces:\n",
    "1. The first is the counter/ variable - IN this the variable is x\n",
    "2. then we have a transform for the variable\n",
    "3. The finale part of a list comp is called the condition\n",
    "\n",
    "```python\n",
    "    [variable, transform, condition]\n",
    "```"
   ]
  },
  {
   "cell_type": "code",
   "execution_count": 47,
   "metadata": {},
   "outputs": [
    {
     "name": "stdout",
     "output_type": "stream",
     "text": [
      "[0, 1, 2, 3, 4, 5, 6, 7, 8, 9, 10, 11, 12, 13, 14, 15, 16, 17, 18, 19]\n",
      "[0, 1, 2, 3, 4, 5, 6, 7, 8, 9, 10, 11, 12, 13, 14, 15, 16, 17, 18, 19]\n",
      "[0, 2, 4, 6, 8, 10, 12, 14, 16, 18]\n"
     ]
    }
   ],
   "source": [
    "# number comprehension\n",
    "\n",
    "# With a regular for loop\n",
    "nums = []\n",
    "for x in range(20):\n",
    "    nums.append(x)\n",
    "print(nums)\n",
    "\n",
    "\n",
    "# IN a list comprehension we have a few pieces:\n",
    "# The first is the counter/ variable - IN this the variable is x\n",
    "# Then we have a transform for the variable \n",
    "# The finale part of a list comp is called the condition\n",
    "#[variable, transform, condition]\n",
    "nums_lc = [x for x in range(20)] # count up to 20\n",
    "print(nums_lc)\n",
    "\n",
    "nums_lc = [x for x in range(20) if x % 2 == 0] # count up to 20 only printing every number divisible by 2\n",
    "print(nums_lc)\n",
    "\n",
    "\n",
    "\n"
   ]
  },
  {
   "cell_type": "markdown",
   "metadata": {},
   "source": [
    "There are a few benefits to using List comprehensions. The most obvious would be that we now have shorter code to work with instead of using 3+ lines of code in the for loop variant.\n",
    "\n",
    "Another is an added benefit to memory usage. Since the list's memory is allocated first before adding elements to it, we don't have to resize the list once we add elements to it.\n",
    "\n",
    "Lastly, list comprehensions are considered the \"pythonic\" way to write code by the PEP8 standards (Python Style Guide)"
   ]
  },
  {
   "cell_type": "code",
   "execution_count": 50,
   "metadata": {},
   "outputs": [
    {
     "name": "stdout",
     "output_type": "stream",
     "text": [
      "[0, 1, 4, 9, 16, 25, 36, 49, 64, 81]\n",
      "=========\n",
      "[0, 1, 4, 9, 16, 25, 36, 49, 64, 81]\n"
     ]
    }
   ],
   "source": [
    "# square number comprehension\n",
    "square = []\n",
    "for num in range(10):\n",
    "    square.append(num**2)\n",
    "print(square)\n",
    "\n",
    "print(\"=========\")\n",
    "\n",
    "# comprehensive version\n",
    "squares_lc = [num**2 for num in range(10)]\n",
    "print(squares_lc)\n"
   ]
  },
  {
   "cell_type": "code",
   "execution_count": 9,
   "metadata": {},
   "outputs": [
    {
     "name": "stdout",
     "output_type": "stream",
     "text": [
      "['S', 'D']\n",
      "['S', 'D']\n"
     ]
    }
   ],
   "source": [
    "# string comprehension\n",
    "names = [\"Shoha\", \"Dylan\", \"Nicole\"]\n",
    "first_char = []\n",
    "for name in names:\n",
    "    if name[0].lower() == \"s\" or name[0].lower() == \"d\":\n",
    "        first_char.append(name[0])\n",
    "print(first_char)\n",
    "\n",
    "# comprehension version                                     # in['s','d']\n",
    "first_char_lc = [name[0] for name in names if name[0].lower() == \"s\" or name[0].lower() == \"d\"]\n",
    "print(first_char_lc)\n",
    "\n"
   ]
  },
  {
   "cell_type": "code",
   "execution_count": null,
   "metadata": {},
   "outputs": [],
   "source": []
  },
  {
   "cell_type": "code",
   "execution_count": null,
   "metadata": {},
   "outputs": [],
   "source": []
  },
  {
   "cell_type": "markdown",
   "metadata": {},
   "source": [
    "### Tuples <br>\n",
    "<p><b>Defined as an immutable list</b></p><br>Seperated by commas using parenthesis"
   ]
  },
  {
   "cell_type": "code",
   "execution_count": 57,
   "metadata": {},
   "outputs": [
    {
     "name": "stdout",
     "output_type": "stream",
     "text": [
      "(1, 2, 3)\n",
      "(1, 2, 3)\n",
      "<class 'tuple'>\n",
      "<class 'tuple'>\n",
      "1\n",
      "2\n",
      "3\n",
      "indexing 2\n",
      "[1, 2, 3]\n",
      "<class 'list'>\n"
     ]
    }
   ],
   "source": [
    "tup1 = (1,2,3)\n",
    "tup2 = 1,2,3\n",
    "print(tup1)\n",
    "print(tup2)\n",
    "print(type(tup1))\n",
    "print(type(tup2))\n",
    "\n",
    "for num in tup2:\n",
    "    print(num)\n",
    "\n",
    "print('indexing', tup2[1])\n",
    "\n"
   ]
  },
  {
   "cell_type": "markdown",
   "metadata": {},
   "source": [
    "##### sorted()"
   ]
  },
  {
   "cell_type": "code",
   "execution_count": 59,
   "metadata": {},
   "outputs": [
    {
     "name": "stdout",
     "output_type": "stream",
     "text": [
      "[2, 3, 4, 5]\n",
      "<class 'list'>\n"
     ]
    }
   ],
   "source": [
    "tup3 = 5,4,3,2\n",
    "s = sorted(tup3)\n",
    "print(s)\n",
    "print(type(s))"
   ]
  },
  {
   "cell_type": "markdown",
   "metadata": {},
   "source": [
    "##### Adding values to a Tuple"
   ]
  },
  {
   "cell_type": "code",
   "execution_count": 60,
   "metadata": {},
   "outputs": [
    {
     "name": "stdout",
     "output_type": "stream",
     "text": [
      "(5, 4, 3, 2, 3, 4, 5)\n"
     ]
    }
   ],
   "source": [
    "tup4 = tup3 + (3,4,5)\n",
    "print(tup4)"
   ]
  },
  {
   "cell_type": "markdown",
   "metadata": {},
   "source": [
    "## Functions"
   ]
  },
  {
   "cell_type": "markdown",
   "metadata": {},
   "source": [
    "##### User-Defined vs. Built-In Functions"
   ]
  },
  {
   "cell_type": "code",
   "execution_count": 63,
   "metadata": {},
   "outputs": [
    {
     "name": "stdout",
     "output_type": "stream",
     "text": [
      "Hello World\n",
      "Hello World\n"
     ]
    }
   ],
   "source": [
    "# user defined\n",
    "def sayHello():\n",
    "    return \"Hello World\"\n",
    "\n",
    "print(sayHello())\n",
    "\n",
    "x = sayHello()\n",
    "print(x)\n",
    "    "
   ]
  },
  {
   "cell_type": "markdown",
   "metadata": {},
   "source": [
    "##### Accepting Parameters"
   ]
  },
  {
   "cell_type": "code",
   "execution_count": 71,
   "metadata": {},
   "outputs": [
    {
     "name": "stdout",
     "output_type": "stream",
     "text": [
      "Chris Williams\n"
     ]
    }
   ],
   "source": [
    "# order matters\n",
    "# a variable can be any type of object\n",
    "def printFullName(first_name,last_name):\n",
    "    full_name = first_name + \" \" + last_name\n",
    "    \n",
    "    return full_name.title() # could also print instead\n",
    "\n",
    "full = printFullName('chris', 'williams')\n",
    "\n",
    "print(full)"
   ]
  },
  {
   "cell_type": "markdown",
   "metadata": {},
   "source": [
    "##### Default Parameters"
   ]
  },
  {
   "cell_type": "code",
   "execution_count": 75,
   "metadata": {},
   "outputs": [
    {
     "data": {
      "text/plain": [
       "'You have a mango and strawberry salad.'"
      ]
     },
     "execution_count": 75,
     "metadata": {},
     "output_type": "execute_result"
    }
   ],
   "source": [
    "def blender(fruit1, fruit2 = 'mango'): # setting variable to value can be overwridden but is not required\n",
    "    output = f\"You have a {fruit1} and {fruit2} salad.\"\n",
    "    return output\n",
    "\n",
    "# function call adds intems to placeholder in function\n",
    "blender('mango', 'strawberry')"
   ]
  },
  {
   "cell_type": "markdown",
   "metadata": {},
   "source": [
    "##### Making an Argument Optional"
   ]
  },
  {
   "cell_type": "code",
   "execution_count": 83,
   "metadata": {},
   "outputs": [
    {
     "name": "stdout",
     "output_type": "stream",
     "text": [
      "Ahohs the Black\n"
     ]
    }
   ],
   "source": [
    "def super(f_name, m_name = '', color = ' the Black'):\n",
    "    new_name = f_name[::-1].title() + m_name.upper() + color  # prints first name backwards\n",
    "    return new_name\n",
    "\n",
    "print(super(\"Shoha\"))\n"
   ]
  },
  {
   "cell_type": "markdown",
   "metadata": {},
   "source": [
    "##### Keyword Arguments"
   ]
  },
  {
   "cell_type": "code",
   "execution_count": null,
   "metadata": {},
   "outputs": [],
   "source": [
    "# last_name='Max', first_name='Smith' in the function call\n",
    "\n",
    "# see above"
   ]
  },
  {
   "cell_type": "markdown",
   "metadata": {},
   "source": [
    "# Creating a start, stop, step function"
   ]
  },
  {
   "cell_type": "code",
   "execution_count": 86,
   "metadata": {},
   "outputs": [
    {
     "data": {
      "text/plain": [
       "[1, 3]"
      ]
     },
     "execution_count": 86,
     "metadata": {},
     "output_type": "execute_result"
    }
   ],
   "source": [
    "def myRange(start, stop=0, step=1):\n",
    "    if stop == 0:\n",
    "        stop = start\n",
    "        start = 0\n",
    "    output = []\n",
    "    while start < stop:\n",
    "        output.append(start)\n",
    "        start += step\n",
    "    return output\n",
    "\n",
    "myRange(1,4,2)"
   ]
  },
  {
   "cell_type": "markdown",
   "metadata": {},
   "source": [
    "##### Returning Values"
   ]
  },
  {
   "cell_type": "code",
   "execution_count": 87,
   "metadata": {},
   "outputs": [
    {
     "name": "stdout",
     "output_type": "stream",
     "text": [
      "This is my name\n"
     ]
    }
   ],
   "source": [
    "# see above, we returned a value\n",
    "print('This is my name')"
   ]
  },
  {
   "cell_type": "markdown",
   "metadata": {},
   "source": [
    "##### *args"
   ]
  },
  {
   "cell_type": "code",
   "execution_count": 92,
   "metadata": {},
   "outputs": [
    {
     "name": "stdout",
     "output_type": "stream",
     "text": [
      "2\n",
      "(1, 1, 1, 1, 1, 1)\n",
      "{'name': 'Shoha', 'age': '9999', 'grades': [10, 10, 10]}\n"
     ]
    }
   ],
   "source": [
    "# *args stands for arguments, take in ANY number of arguments as parameters\n",
    "def printArgs(num1, *args, **kwargs): #args any argument, kwargs any keyword arguments or a defined argument\n",
    "    print(num1)\n",
    "    print(args)\n",
    "    print(kwargs)\n",
    "    return\n",
    "\n",
    "printArgs(2,1,1,1,1,1,1, name='Shoha', age='9999', grades=[10,10,10])"
   ]
  },
  {
   "cell_type": "markdown",
   "metadata": {},
   "source": [
    "##### Docstring"
   ]
  },
  {
   "cell_type": "code",
   "execution_count": 94,
   "metadata": {},
   "outputs": [
    {
     "name": "stdout",
     "output_type": "stream",
     "text": [
      "Shoha\n",
      "Dylan\n",
      "Nicole\n"
     ]
    }
   ],
   "source": [
    "def printNames (list_of_names):\n",
    "    '''\n",
    "    printNames(list_of_names)\n",
    "    This function requires a list to be passedin as an argument and will print the content of the list.\n",
    "    Expecting a list to names(strings) to be posted\n",
    "    '''\n",
    "    for name in list_of_names:\n",
    "        print(name)\n",
    "    return\n",
    "printNames(['Shoha','Dylan', 'Nicole'])"
   ]
  },
  {
   "cell_type": "markdown",
   "metadata": {},
   "source": [
    "##### Using a User Function in a Loop"
   ]
  },
  {
   "cell_type": "code",
   "execution_count": 102,
   "metadata": {},
   "outputs": [
    {
     "name": "stdout",
     "output_type": "stream",
     "text": [
      "What would you like to do? Buy/Sell/Quitquit\n",
      "simulation over\n"
     ]
    }
   ],
   "source": [
    "def askUser():\n",
    "    answer = input(\"What would you like to do? Buy/Sell/Quit\")\n",
    "    return answer\n",
    "\n",
    "def runSim():\n",
    "    while True:\n",
    "        ans = askUser()\n",
    "        if ans.lower() == 'quit':\n",
    "            break\n",
    "        else:\n",
    "            print(\"You didn't quit yet.\")\n",
    "    print('simulation over')\n",
    "    return\n",
    "    \n",
    "runSim()"
   ]
  },
  {
   "cell_type": "markdown",
   "metadata": {},
   "source": [
    "## Function Exercise <br>\n",
    "<p>Write a function that loops through a list of first_names and a list of last_names, combines the two and return a list of full_names</p>"
   ]
  },
  {
   "cell_type": "code",
   "execution_count": 2,
   "metadata": {},
   "outputs": [
    {
     "name": "stdout",
     "output_type": "stream",
     "text": [
      "['John Smith', 'Evan Smith', 'Jordan Williams', 'Max Bell']\n"
     ]
    },
    {
     "data": {
      "text/plain": [
       "['John Smith', 'Evan Smith', 'Jordan Williams', 'Max Bell']"
      ]
     },
     "execution_count": 2,
     "metadata": {},
     "output_type": "execute_result"
    }
   ],
   "source": [
    "def fullName():\n",
    "    first_name = ['John', 'Evan', 'Jordan', 'Max']\n",
    "    last_name = ['Smith', 'Smith', 'Williams', 'Bell']\n",
    "    full_names = []\n",
    "    #if len(first_name) == len(last_name):\n",
    "    #    for n in range(len(first_name)):\n",
    "    #        full_name.append(f\"{first_name[n]} {last_name[n]})  # guess I can't append this way\n",
    "    #    else:\n",
    "    #        print('Lists are not compatible. Please enter 2 lists with equal index quantities.')\n",
    "    #    return full_name\n",
    "    if len(first_name) == len(last_name): # checks to make sure lists are same length before combining\n",
    "        for n in range(len(first_name)):\n",
    "            full_names.append(\"\") # index didn't exist so I create a blank string at that location\n",
    "            full_names[n] = f\"{first_name[n]} {last_name[n]}\" # here I change the string of the index I added\n",
    "        print(full_names)                                     # in the last step\n",
    "        return full_names\n",
    "    else:\n",
    "        print('Lists are not compatible. Please enter 2 lists with equal index quantities.')\n",
    "    \n",
    "fullName()\n",
    "\n",
    "# Output: ['John Smith', 'Evan Smith', 'Jordan Williams', 'Max Bell']\n",
    "\n"
   ]
  },
  {
   "cell_type": "markdown",
   "metadata": {},
   "source": [
    "## Scope <br>\n",
    "<p>Scope refers to the ability to access variables, different types of scope include:<br>a) Global<br>b) Function (local)<br>c) Class (local)</p>"
   ]
  },
  {
   "cell_type": "code",
   "execution_count": 108,
   "metadata": {},
   "outputs": [
    {
     "name": "stdout",
     "output_type": "stream",
     "text": [
      "10\n",
      "25\n"
     ]
    }
   ],
   "source": [
    "number = 1 # global\n",
    "\n",
    "def myFunc():\n",
    "    n2 = 10\n",
    "    n3 = 15\n",
    "    print(n2)\n",
    "    return n2 + n3\n",
    "\n",
    "out = myFunc()\n",
    "print(out)"
   ]
  },
  {
   "cell_type": "markdown",
   "metadata": {},
   "source": [
    "# Exercises"
   ]
  },
  {
   "cell_type": "markdown",
   "metadata": {},
   "source": [
    "## Exercise 1 <br>\n",
    "<p>Given a list as a parameter,write a function that returns a list of numbers that are less than ten</b></i></p><br>\n",
    "<p> For example: Say your input parameter to the function is [1,11,14,5,8,9]...Your output should [1,5,8,9]</p>"
   ]
  },
  {
   "cell_type": "code",
   "execution_count": 5,
   "metadata": {},
   "outputs": [
    {
     "name": "stdout",
     "output_type": "stream",
     "text": [
      "[1, 5, 8, 9]\n",
      "[1, 5, 8, 9]\n"
     ]
    }
   ],
   "source": [
    "# Use the following list - [1,11,14,5,8,9]\n",
    "# Try with list comprehension\n",
    "def lessThanTen(l_1):\n",
    "    under_ten = []\n",
    "    for i in l_1:\n",
    "        if i < 10:\n",
    "            under_ten.append(i)\n",
    "\n",
    "    return under_ten\n",
    "\n",
    "print(lessThanTen([1,11,14,5,8,9]))\n",
    "\n",
    "# with list comprehension\n",
    "def lessThanTenComp(l_2):\n",
    "    under_ten = [i for i in l_2 if i < 10]\n",
    "    \n",
    "    return under_ten\n",
    "\n",
    "print(lessThanTenComp([1,11,14,5,8,9]))\n",
    "\n",
    "\n",
    "\n",
    "\n"
   ]
  },
  {
   "cell_type": "markdown",
   "metadata": {},
   "source": [
    "'''\n",
    "## Exercise 2 <br>\n",
    "<p>Write a function that takes in two lists and returns the two lists merged together and sorted<br>\n",
    "<b><i>Hint: You can use the .sort() method</i></b></p>\n",
    "'''"
   ]
  },
  {
   "cell_type": "code",
   "execution_count": 1,
   "metadata": {},
   "outputs": [
    {
     "name": "stdout",
     "output_type": "stream",
     "text": [
      "[1, 2, 3, 3, 4, 4, 5, 5, 6, 6, 7, 8, 10]\n"
     ]
    }
   ],
   "source": [
    "def combine(l_1, l_2):\n",
    "    new_list = []\n",
    "    for i in l_1:\n",
    "        new_list.append(i)\n",
    "    for x in l_2:\n",
    "        new_list.append(x)\n",
    "    new_list.sort()\n",
    "    print(new_list)\n",
    "\n",
    "combine([1,2,3,4,5,6], [3,4,5,6,7,8,10])\n"
   ]
  },
  {
   "cell_type": "code",
   "execution_count": 117,
   "metadata": {},
   "outputs": [],
   "source": []
  },
  {
   "cell_type": "code",
   "execution_count": null,
   "metadata": {},
   "outputs": [],
   "source": []
  }
 ],
 "metadata": {
  "kernelspec": {
   "display_name": "Python 3 (ipykernel)",
   "language": "python",
   "name": "python3"
  },
  "language_info": {
   "codemirror_mode": {
    "name": "ipython",
    "version": 3
   },
   "file_extension": ".py",
   "mimetype": "text/x-python",
   "name": "python",
   "nbconvert_exporter": "python",
   "pygments_lexer": "ipython3",
   "version": "3.9.10"
  }
 },
 "nbformat": 4,
 "nbformat_minor": 2
}
